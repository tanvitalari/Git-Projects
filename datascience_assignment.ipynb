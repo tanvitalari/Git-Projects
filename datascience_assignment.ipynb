{
  "nbformat": 4,
  "nbformat_minor": 0,
  "metadata": {
    "colab": {
      "provenance": [],
      "authorship_tag": "ABX9TyMfcpxQx63MLA45+jxitO+H",
      "include_colab_link": true
    },
    "kernelspec": {
      "name": "python3",
      "display_name": "Python 3"
    },
    "language_info": {
      "name": "python"
    }
  },
  "cells": [
    {
      "cell_type": "markdown",
      "metadata": {
        "id": "view-in-github",
        "colab_type": "text"
      },
      "source": [
        "<a href=\"https://colab.research.google.com/github/tanvitalari/Git-Projects/blob/main/datascience_assignment.ipynb\" target=\"_parent\"><img src=\"https://colab.research.google.com/assets/colab-badge.svg\" alt=\"Open In Colab\"/></a>"
      ]
    },
    {
      "cell_type": "markdown",
      "source": [
        "# Basic Array Operations"
      ],
      "metadata": {
        "id": "6Jc5Ns276D1c"
      }
    },
    {
      "cell_type": "markdown",
      "source": [
        "**Question 1**"
      ],
      "metadata": {
        "id": "php7x24x2Y-e"
      }
    },
    {
      "cell_type": "code",
      "execution_count": null,
      "metadata": {
        "colab": {
          "base_uri": "https://localhost:8080/"
        },
        "id": "ZLzrUkry0sNb",
        "outputId": "71f2629a-8d1c-47a6-a62b-d3e28f4e1c9d"
      },
      "outputs": [
        {
          "output_type": "stream",
          "name": "stdout",
          "text": [
            "3x3 Array:\n",
            "[1, 9, 2]\n",
            "[7, 8, 4]\n",
            "[3, 6, 2]\n",
            "\n",
            "Sum: 42\n",
            "Mean: 4.666666666666667\n",
            "Standard Deviation: 2.748737083745107\n"
          ]
        }
      ],
      "source": [
        "import random\n",
        "import math\n",
        "\n",
        "array = [[random.randint(0, 10) for _ in range(3)] for _ in range(3)] # Create 3x3 array\n",
        "\n",
        "total = 0\n",
        "count = 0\n",
        "for row in array:\n",
        "    for val in row:\n",
        "        total += val\n",
        "        count += 1\n",
        "\n",
        "mean = total / count #mean\n",
        "\n",
        "sq_diff_sum = 0\n",
        "for row in array:\n",
        "    for val in row:\n",
        "        sq_diff_sum += (val - mean) ** 2\n",
        "\n",
        "std_dev = math.sqrt(sq_diff_sum / count) #standard deviation\n",
        "\n",
        "print(\"3x3 Array:\")\n",
        "for row in array:\n",
        "    print(row)\n",
        "\n",
        "print(\"\\nSum:\", total)\n",
        "print(\"Mean:\", mean)\n",
        "print(\"Standard Deviation:\", std_dev)\n"
      ]
    },
    {
      "cell_type": "markdown",
      "source": [
        "**Question 2**"
      ],
      "metadata": {
        "id": "jB6G30Pp2kk0"
      }
    },
    {
      "cell_type": "code",
      "source": [
        "import random\n",
        "\n",
        "arr = [random.randint(0, 20) for _ in range(10)] # create 1D array\n",
        "\n",
        "cumulative_sum = [] # cumulative sum\n",
        "running_total = 0\n",
        "\n",
        "for val in arr:\n",
        "    running_total += val\n",
        "    cumulative_sum.append(running_total)\n",
        "\n",
        "print(\"Original Array:\", arr)\n",
        "print(\"Cumulative Sum:\", cumulative_sum)\n"
      ],
      "metadata": {
        "colab": {
          "base_uri": "https://localhost:8080/"
        },
        "id": "XeiDidyr2mhy",
        "outputId": "accaabdc-2569-4f3d-c455-ad64be4d5662"
      },
      "execution_count": null,
      "outputs": [
        {
          "output_type": "stream",
          "name": "stdout",
          "text": [
            "Original Array: [14, 0, 12, 6, 17, 5, 19, 4, 20, 9]\n",
            "Cumulative Sum: [14, 14, 26, 32, 49, 54, 73, 77, 97, 106]\n"
          ]
        }
      ]
    },
    {
      "cell_type": "markdown",
      "source": [
        "**Question 3**"
      ],
      "metadata": {
        "id": "vDJGgv0A33FL"
      }
    },
    {
      "cell_type": "code",
      "source": [
        "import random\n",
        "\n",
        "A = [[random.randint(1, 10) for _ in range(3)] for _ in range(2)] #Generate two 2x3 arrays\n",
        "B = [[random.randint(1, 10) for _ in range(3)] for _ in range(2)]\n",
        "\n",
        "add_result = [[0]*3 for _ in range(2)]\n",
        "sub_result = [[0]*3 for _ in range(2)]\n",
        "mul_result = [[0]*3 for _ in range(2)]\n",
        "div_result = [[0]*3 for _ in range(2)]\n",
        "\n",
        "for i in range(2): # element wise operations\n",
        "    for j in range(3):\n",
        "        add_result[i][j] = A[i][j] + B[i][j]\n",
        "        sub_result[i][j] = A[i][j] - B[i][j]\n",
        "        mul_result[i][j] = A[i][j] * B[i][j]\n",
        "        div_result[i][j] = A[i][j] / B[i][j]\n",
        "\n",
        "print(\"Array A:\", A)\n",
        "print(\"Array B:\", B)\n",
        "\n",
        "print(\"\\nElement-wise Addition:\", add_result)\n",
        "print(\"Element-wise Subtraction:\", sub_result)\n",
        "print(\"Element-wise Multiplication:\", mul_result)\n",
        "print(\"Element-wise Division:\", div_result)\n"
      ],
      "metadata": {
        "colab": {
          "base_uri": "https://localhost:8080/"
        },
        "id": "Txud01JM35DZ",
        "outputId": "35ed8ebd-2004-402f-ce1c-fabf54842a4e"
      },
      "execution_count": null,
      "outputs": [
        {
          "output_type": "stream",
          "name": "stdout",
          "text": [
            "Array A: [[2, 7, 1], [4, 10, 8]]\n",
            "Array B: [[8, 7, 7], [5, 9, 10]]\n",
            "\n",
            "Element-wise Addition: [[10, 14, 8], [9, 19, 18]]\n",
            "Element-wise Subtraction: [[-6, 0, -6], [-1, 1, -2]]\n",
            "Element-wise Multiplication: [[16, 49, 7], [20, 90, 80]]\n",
            "Element-wise Division: [[0.25, 1.0, 0.14285714285714285], [0.8, 1.1111111111111112, 0.8]]\n"
          ]
        }
      ]
    },
    {
      "cell_type": "markdown",
      "source": [
        "**Question 4**"
      ],
      "metadata": {
        "id": "20ho-CwM5PoC"
      }
    },
    {
      "cell_type": "code",
      "source": [
        "identity_matrix = [[0 for _ in range(4)] for _ in range(4)] # 4x4 matrix\n",
        "\n",
        "for i in range(4):\n",
        "    identity_matrix[i][i] = 1\n",
        "\n",
        "print(\"4x4 Identity Matrix:\")\n",
        "for row in identity_matrix:\n",
        "    print(row)\n"
      ],
      "metadata": {
        "colab": {
          "base_uri": "https://localhost:8080/"
        },
        "id": "PUH6lQVO5Rnx",
        "outputId": "b3934f26-b236-4ff0-c4d9-2b1e405522dc"
      },
      "execution_count": null,
      "outputs": [
        {
          "output_type": "stream",
          "name": "stdout",
          "text": [
            "4x4 Identity Matrix:\n",
            "[1, 0, 0, 0]\n",
            "[0, 1, 0, 0]\n",
            "[0, 0, 1, 0]\n",
            "[0, 0, 0, 1]\n"
          ]
        }
      ]
    },
    {
      "cell_type": "markdown",
      "source": [
        "**Question 5**"
      ],
      "metadata": {
        "id": "SUuQZh3X5fah"
      }
    },
    {
      "cell_type": "code",
      "source": [
        "import numpy as np\n",
        "\n",
        "a = np.array([5, 10, 15, 20, 25]) # Create array\n",
        "\n",
        "result = a / 5\n",
        "\n",
        "print(\"Original Array:\", a)\n",
        "print(\"Result after dividing by 5:\", result)\n"
      ],
      "metadata": {
        "colab": {
          "base_uri": "https://localhost:8080/"
        },
        "id": "oEJEuUf65g9g",
        "outputId": "06b234e4-77b5-4779-9245-e1c0d0ff2941"
      },
      "execution_count": null,
      "outputs": [
        {
          "output_type": "stream",
          "name": "stdout",
          "text": [
            "Original Array: [ 5 10 15 20 25]\n",
            "Result after dividing by 5: [1. 2. 3. 4. 5.]\n"
          ]
        }
      ]
    },
    {
      "cell_type": "markdown",
      "source": [
        "# Array Manipulation"
      ],
      "metadata": {
        "id": "S-Jy-loM6IVr"
      }
    },
    {
      "cell_type": "markdown",
      "source": [
        "**Question 6**"
      ],
      "metadata": {
        "id": "O94Rrmft6KtA"
      }
    },
    {
      "cell_type": "code",
      "source": [
        "import numpy as np\n",
        "\n",
        "a = np.array([i for i in range(1, 13)])  # [1, 2, ..., 12]\n",
        "\n",
        "rows, cols = 3, 4\n",
        "matrix = []\n",
        "\n",
        "index = 0\n",
        "for i in range(rows):\n",
        "    row = []\n",
        "    for j in range(cols):\n",
        "        row.append(a[index])\n",
        "        index += 1\n",
        "    matrix.append(row)\n",
        "\n",
        "print(\"Original 1D Array:\", a)\n",
        "print(\"\\nReshaped 3x4 Matrix:\")\n",
        "for row in matrix:\n",
        "    print(row)\n"
      ],
      "metadata": {
        "colab": {
          "base_uri": "https://localhost:8080/"
        },
        "id": "HnOypwCz6NpK",
        "outputId": "ef4e738d-74dd-45cb-c4af-cecd55dfcf82"
      },
      "execution_count": null,
      "outputs": [
        {
          "output_type": "stream",
          "name": "stdout",
          "text": [
            "Original 1D Array: [ 1  2  3  4  5  6  7  8  9 10 11 12]\n",
            "\n",
            "Reshaped 3x4 Matrix:\n",
            "[np.int64(1), np.int64(2), np.int64(3), np.int64(4)]\n",
            "[np.int64(5), np.int64(6), np.int64(7), np.int64(8)]\n",
            "[np.int64(9), np.int64(10), np.int64(11), np.int64(12)]\n"
          ]
        }
      ]
    },
    {
      "cell_type": "markdown",
      "source": [
        "**Question 7**"
      ],
      "metadata": {
        "id": "q_zhck1u8Ywm"
      }
    },
    {
      "cell_type": "code",
      "source": [
        "matrix = [\n",
        "    [1, 2, 3],\n",
        "    [4, 5, 6],\n",
        "    [7, 8, 9]\n",
        "]\n",
        "\n",
        "flattened = []\n",
        "for row in matrix:\n",
        "    for val in row:\n",
        "        flattened.append(val)\n",
        "\n",
        "print(\"Original 3x3 Matrix:\")\n",
        "for row in matrix:\n",
        "    print(row)\n",
        "\n",
        "print(\"\\nFlattened 1D Array:\", flattened)\n"
      ],
      "metadata": {
        "colab": {
          "base_uri": "https://localhost:8080/"
        },
        "id": "nnClybu98aWI",
        "outputId": "a2ac74ac-de11-44f0-f5b8-d45ecbe9e5b0"
      },
      "execution_count": null,
      "outputs": [
        {
          "output_type": "stream",
          "name": "stdout",
          "text": [
            "Original 3x3 Matrix:\n",
            "[1, 2, 3]\n",
            "[4, 5, 6]\n",
            "[7, 8, 9]\n",
            "\n",
            "Flattened 1D Array: [1, 2, 3, 4, 5, 6, 7, 8, 9]\n"
          ]
        }
      ]
    },
    {
      "cell_type": "markdown",
      "source": [
        "**Question 8**"
      ],
      "metadata": {
        "id": "YYSCACTazIoz"
      }
    },
    {
      "cell_type": "code",
      "source": [
        "A = [\n",
        "    [1, 2, 3],\n",
        "    [4, 5, 6],\n",
        "    [7, 8, 9]\n",
        "]\n",
        "\n",
        "B = [\n",
        "    [10, 11, 12],\n",
        "    [13, 14, 15],\n",
        "    [16, 17, 18]\n",
        "]\n",
        "\n",
        "horizontal_stack = []\n",
        "for i in range(len(A)):\n",
        "    horizontal_stack.append(A[i] + B[i])\n",
        "\n",
        "vertical_stack = A + B\n",
        "\n",
        "print(\"Matrix A:\")\n",
        "for row in A:\n",
        "    print(row)\n",
        "\n",
        "print(\"\\nMatrix B:\")\n",
        "for row in B:\n",
        "    print(row)\n",
        "\n",
        "print(\"\\nHorizontal Stack (3x6):\")\n",
        "for row in horizontal_stack:\n",
        "    print(row)\n",
        "\n",
        "print(\"\\nVertical Stack (6x3):\")\n",
        "for row in vertical_stack:\n",
        "    print(row)\n"
      ],
      "metadata": {
        "colab": {
          "base_uri": "https://localhost:8080/"
        },
        "id": "fduhEyrvzKOh",
        "outputId": "9ae34365-61c7-4e8d-fec9-5c7ac6463b5c"
      },
      "execution_count": null,
      "outputs": [
        {
          "output_type": "stream",
          "name": "stdout",
          "text": [
            "Matrix A:\n",
            "[1, 2, 3]\n",
            "[4, 5, 6]\n",
            "[7, 8, 9]\n",
            "\n",
            "Matrix B:\n",
            "[10, 11, 12]\n",
            "[13, 14, 15]\n",
            "[16, 17, 18]\n",
            "\n",
            "Horizontal Stack (3x6):\n",
            "[1, 2, 3, 10, 11, 12]\n",
            "[4, 5, 6, 13, 14, 15]\n",
            "[7, 8, 9, 16, 17, 18]\n",
            "\n",
            "Vertical Stack (6x3):\n",
            "[1, 2, 3]\n",
            "[4, 5, 6]\n",
            "[7, 8, 9]\n",
            "[10, 11, 12]\n",
            "[13, 14, 15]\n",
            "[16, 17, 18]\n"
          ]
        }
      ]
    },
    {
      "cell_type": "markdown",
      "source": [
        "**Question 9**"
      ],
      "metadata": {
        "id": "UudeYoAQzlgh"
      }
    },
    {
      "cell_type": "code",
      "source": [
        "A = [1, 2, 3]\n",
        "B = [4, 5, 6, 7, 8]\n",
        "\n",
        "C = [A, B]\n",
        "\n",
        "print(\"Array A:\", A)\n",
        "print(\"Array B:\", B)\n",
        "print(\"\\nConcatenated along new axis:\")\n",
        "for row in C:\n",
        "    print(row)\n"
      ],
      "metadata": {
        "colab": {
          "base_uri": "https://localhost:8080/"
        },
        "id": "karewZPezngv",
        "outputId": "af1174f3-f842-4fb9-d550-014b59ccec7a"
      },
      "execution_count": null,
      "outputs": [
        {
          "output_type": "stream",
          "name": "stdout",
          "text": [
            "Array A: [1, 2, 3]\n",
            "Array B: [4, 5, 6, 7, 8]\n",
            "\n",
            "Concatenated along new axis:\n",
            "[1, 2, 3]\n",
            "[4, 5, 6, 7, 8]\n"
          ]
        }
      ]
    },
    {
      "cell_type": "markdown",
      "source": [
        "**Question 10**"
      ],
      "metadata": {
        "id": "F93KQkgy5Vlp"
      }
    },
    {
      "cell_type": "code",
      "source": [
        "matrix = [\n",
        "    [1, 2],\n",
        "    [3, 4],\n",
        "    [5, 6]\n",
        "]\n",
        "\n",
        "transpose = []\n",
        "for j in range(len(matrix[0])):\n",
        "    row = []\n",
        "    for i in range(len(matrix)):\n",
        "        row.append(matrix[i][j])\n",
        "    transpose.append(row)\n",
        "\n",
        "flat = []\n",
        "for row in transpose:\n",
        "    for val in row:\n",
        "        flat.append(val)\n",
        "\n",
        "reshaped = []\n",
        "index = 0\n",
        "for i in range(3):\n",
        "    row = []\n",
        "    for j in range(2):\n",
        "        row.append(flat[index])\n",
        "        index += 1\n",
        "    reshaped.append(row)\n",
        "\n",
        "print(\"Original 3x2 Matrix:\")\n",
        "for row in matrix:\n",
        "    print(row)\n",
        "\n",
        "print(\"\\nTransposed (2x3 Matrix):\")\n",
        "for row in transpose:\n",
        "    print(row)\n",
        "\n",
        "print(\"\\nReshaped back to 3x2:\")\n",
        "for row in reshaped:\n",
        "    print(row)\n"
      ],
      "metadata": {
        "colab": {
          "base_uri": "https://localhost:8080/"
        },
        "id": "Kwip61Yi5X36",
        "outputId": "d543a3cc-ab10-4def-b09e-dfafccd21172"
      },
      "execution_count": null,
      "outputs": [
        {
          "output_type": "stream",
          "name": "stdout",
          "text": [
            "Original 3x2 Matrix:\n",
            "[1, 2]\n",
            "[3, 4]\n",
            "[5, 6]\n",
            "\n",
            "Transposed (2x3 Matrix):\n",
            "[1, 3, 5]\n",
            "[2, 4, 6]\n",
            "\n",
            "Reshaped back to 3x2:\n",
            "[1, 3]\n",
            "[5, 2]\n",
            "[4, 6]\n"
          ]
        }
      ]
    },
    {
      "cell_type": "markdown",
      "source": [
        "# Indexing and Slicing"
      ],
      "metadata": {
        "id": "v7WPKndn5mt4"
      }
    },
    {
      "cell_type": "markdown",
      "source": [
        "**Question 11**"
      ],
      "metadata": {
        "id": "hF_6LchR5qEe"
      }
    },
    {
      "cell_type": "code",
      "source": [
        "arr = [i for i in range(1, 16)]\n",
        "\n",
        "start, end, step = 2, 10, 2\n",
        "extracted = []\n",
        "\n",
        "i = start\n",
        "while i < end:\n",
        "    extracted.append(arr[i])\n",
        "    i += step\n",
        "\n",
        "print(\"Original Array:\", arr)\n",
        "print(\"Extracted Elements (positions 2 to 10, step 2):\", extracted)\n"
      ],
      "metadata": {
        "id": "_1zV5ujW5ro5",
        "colab": {
          "base_uri": "https://localhost:8080/"
        },
        "outputId": "f9263bb5-dace-4cce-f516-893e7a79ece5"
      },
      "execution_count": 1,
      "outputs": [
        {
          "output_type": "stream",
          "name": "stdout",
          "text": [
            "Original Array: [1, 2, 3, 4, 5, 6, 7, 8, 9, 10, 11, 12, 13, 14, 15]\n",
            "Extracted Elements (positions 2 to 10, step 2): [3, 5, 7, 9]\n"
          ]
        }
      ]
    },
    {
      "cell_type": "markdown",
      "source": [
        "**Question 12**"
      ],
      "metadata": {
        "id": "rTqjqrFtagyv"
      }
    },
    {
      "cell_type": "code",
      "source": [
        "matrix = []\n",
        "val = 1\n",
        "for i in range(5):\n",
        "    row = []\n",
        "    for j in range(5):\n",
        "        row.append(val)\n",
        "        val += 1\n",
        "    matrix.append(row)\n",
        "\n",
        "start_row, end_row = 1, 3\n",
        "start_col, end_col = 2, 4\n",
        "\n",
        "sub_matrix = []\n",
        "for i in range(start_row, end_row + 1):\n",
        "    row = []\n",
        "    for j in range(start_col, end_col + 1):\n",
        "        row.append(matrix[i][j])\n",
        "    sub_matrix.append(row)\n",
        "\n",
        "print(\"Original 5x5 Matrix:\")\n",
        "for row in matrix:\n",
        "    print(row)\n",
        "\n",
        "print(\"\\nExtracted Sub-Matrix (rows 1–3, cols 2–4):\")\n",
        "for row in sub_matrix:\n",
        "    print(row)"
      ],
      "metadata": {
        "colab": {
          "base_uri": "https://localhost:8080/"
        },
        "id": "lHfeyS29agcA",
        "outputId": "14b32aa8-2244-4054-8e1c-70a4344824e1"
      },
      "execution_count": 2,
      "outputs": [
        {
          "output_type": "stream",
          "name": "stdout",
          "text": [
            "Original 5x5 Matrix:\n",
            "[1, 2, 3, 4, 5]\n",
            "[6, 7, 8, 9, 10]\n",
            "[11, 12, 13, 14, 15]\n",
            "[16, 17, 18, 19, 20]\n",
            "[21, 22, 23, 24, 25]\n",
            "\n",
            "Extracted Sub-Matrix (rows 1–3, cols 2–4):\n",
            "[8, 9, 10]\n",
            "[13, 14, 15]\n",
            "[18, 19, 20]\n"
          ]
        }
      ]
    },
    {
      "cell_type": "markdown",
      "source": [
        "**Question 13**"
      ],
      "metadata": {
        "id": "yRpGB3w9aueK"
      }
    },
    {
      "cell_type": "code",
      "source": [
        "arr = [1, 3, 11, 13, 7, 30, 9, 18]\n",
        "\n",
        "for i in range(len(arr)):\n",
        "    if arr[i] > 10:\n",
        "        arr[i] = 10\n",
        "\n",
        "print(arr)\n"
      ],
      "metadata": {
        "colab": {
          "base_uri": "https://localhost:8080/"
        },
        "id": "6vY-iUi8awDf",
        "outputId": "f17c6275-9e77-4d14-8760-cf988bd82dc3"
      },
      "execution_count": 3,
      "outputs": [
        {
          "output_type": "stream",
          "name": "stdout",
          "text": [
            "[1, 3, 10, 10, 7, 10, 9, 10]\n"
          ]
        }
      ]
    },
    {
      "cell_type": "markdown",
      "source": [
        "**Question 14**"
      ],
      "metadata": {
        "id": "ilceTq36qJsB"
      }
    },
    {
      "cell_type": "code",
      "source": [
        "arr = [10, 20, 30, 40, 50, 60, 70, 80]\n",
        "\n",
        "indices = [0, 2, 4, 6]\n",
        "\n",
        "selected_elements = [arr[i] for i in indices]\n",
        "\n",
        "print(selected_elements)\n"
      ],
      "metadata": {
        "colab": {
          "base_uri": "https://localhost:8080/"
        },
        "id": "h9k5LJ8eqLPY",
        "outputId": "80134e5d-b086-4faf-fdab-dd36b60a3e37"
      },
      "execution_count": 4,
      "outputs": [
        {
          "output_type": "stream",
          "name": "stdout",
          "text": [
            "[10, 30, 50, 70]\n"
          ]
        }
      ]
    },
    {
      "cell_type": "markdown",
      "source": [
        "**Question 15**"
      ],
      "metadata": {
        "id": "tC1QlR_mqUWP"
      }
    },
    {
      "cell_type": "code",
      "source": [
        "arr = [1, 2, 3, 4, 5, 6, 7, 8, 9, 10]\n",
        "\n",
        "reversed_arr = arr[::-1]\n",
        "\n",
        "print(reversed_arr)\n"
      ],
      "metadata": {
        "colab": {
          "base_uri": "https://localhost:8080/"
        },
        "id": "M10gVHXsqWHQ",
        "outputId": "183aa61b-06e6-4bd1-e68c-538ca15a9c12"
      },
      "execution_count": 5,
      "outputs": [
        {
          "output_type": "stream",
          "name": "stdout",
          "text": [
            "[10, 9, 8, 7, 6, 5, 4, 3, 2, 1]\n"
          ]
        }
      ]
    },
    {
      "cell_type": "markdown",
      "source": [
        "# Broadcasting"
      ],
      "metadata": {
        "id": "DAms2kvnqk5o"
      }
    },
    {
      "cell_type": "markdown",
      "source": [
        "**Question 16**"
      ],
      "metadata": {
        "id": "1tq-UCSdqmjQ"
      }
    },
    {
      "cell_type": "code",
      "source": [
        "matrix = [\n",
        "    [1, 2, 3],\n",
        "    [4, 5, 6],\n",
        "    [7, 8, 9]\n",
        "]\n",
        "\n",
        "arr = [10, 20, 30]\n",
        "\n",
        "result = []\n",
        "for row in matrix:\n",
        "    new_row = []\n",
        "    for i in range(len(row)):\n",
        "        new_row.append(row[i] + arr[i])\n",
        "    result.append(new_row)\n",
        "\n",
        "print(result)\n"
      ],
      "metadata": {
        "colab": {
          "base_uri": "https://localhost:8080/"
        },
        "id": "MKOJkXFbqoE4",
        "outputId": "dac8fda6-4665-465a-b5c3-57e28c346e9d"
      },
      "execution_count": 6,
      "outputs": [
        {
          "output_type": "stream",
          "name": "stdout",
          "text": [
            "[[11, 22, 33], [14, 25, 36], [17, 28, 39]]\n"
          ]
        }
      ]
    },
    {
      "cell_type": "markdown",
      "source": [
        "**Question 17**"
      ],
      "metadata": {
        "id": "owunP6-GtGqm"
      }
    },
    {
      "cell_type": "code",
      "source": [
        "arr = [2, 4, 6, 8, 10]\n",
        "\n",
        "scalar = 3\n",
        "\n",
        "result = []\n",
        "for i in range(len(arr)):\n",
        "    result.append(arr[i] * scalar)\n",
        "\n",
        "print(result)\n"
      ],
      "metadata": {
        "colab": {
          "base_uri": "https://localhost:8080/"
        },
        "id": "jJ5EKOafsli6",
        "outputId": "6a0a1a33-9e23-4307-9053-0d181441e1ce"
      },
      "execution_count": 7,
      "outputs": [
        {
          "output_type": "stream",
          "name": "stdout",
          "text": [
            "[6, 12, 18, 24, 30]\n"
          ]
        }
      ]
    },
    {
      "cell_type": "markdown",
      "source": [
        "**Question 18**"
      ],
      "metadata": {
        "id": "ZHpWEtbNtIl3"
      }
    },
    {
      "cell_type": "code",
      "source": [
        "matrix = [\n",
        "    [1, 2, 3],\n",
        "    [4, 5, 6],\n",
        "    [7, 8, 9]\n",
        "]\n",
        "\n",
        "col_vector = [1, 2, 3]\n",
        "\n",
        "result = []\n",
        "for i in range(len(matrix)):\n",
        "    new_row = []\n",
        "    for j in range(len(matrix[i])):\n",
        "        new_row.append(matrix[i][j] - col_vector[i])\n",
        "    result.append(new_row)\n",
        "\n",
        "print(result)\n"
      ],
      "metadata": {
        "colab": {
          "base_uri": "https://localhost:8080/"
        },
        "id": "oaWIzlz8svgo",
        "outputId": "d26fa64c-04ad-4965-a21f-29ea8b86d33a"
      },
      "execution_count": 8,
      "outputs": [
        {
          "output_type": "stream",
          "name": "stdout",
          "text": [
            "[[0, 1, 2], [2, 3, 4], [4, 5, 6]]\n"
          ]
        }
      ]
    },
    {
      "cell_type": "markdown",
      "source": [
        "**Question 19**"
      ],
      "metadata": {
        "id": "P04LqvVXtOGq"
      }
    },
    {
      "cell_type": "code",
      "source": [
        "array_3d = [\n",
        "    [[1, 2], [3, 4]],\n",
        "    [[5, 6], [7, 8]]\n",
        "]\n",
        "\n",
        "scalar = 10\n",
        "\n",
        "result = []\n",
        "for i in range(len(array_3d)):\n",
        "    new_matrix = []\n",
        "    for j in range(len(array_3d[i])):\n",
        "        new_row = []\n",
        "        for k in range(len(array_3d[i][j])):\n",
        "            new_row.append(array_3d[i][j][k] + scalar)\n",
        "        new_matrix.append(new_row)\n",
        "    result.append(new_matrix)\n",
        "\n",
        "print(result)\n"
      ],
      "metadata": {
        "colab": {
          "base_uri": "https://localhost:8080/"
        },
        "id": "QYCGmrTys42H",
        "outputId": "436a5a37-e7e0-42f9-eb7e-8a3755c54625"
      },
      "execution_count": 9,
      "outputs": [
        {
          "output_type": "stream",
          "name": "stdout",
          "text": [
            "[[[11, 12], [13, 14]], [[15, 16], [17, 18]]]\n"
          ]
        }
      ]
    },
    {
      "cell_type": "markdown",
      "source": [
        "**Question 20**"
      ],
      "metadata": {
        "id": "v3tc_BJTtPw3"
      }
    },
    {
      "cell_type": "code",
      "source": [
        "arr1 = [\n",
        "    [1],\n",
        "    [2],\n",
        "    [3],\n",
        "    [4]\n",
        "]\n",
        "\n",
        "arr2 = [\n",
        "    [10, 20, 30, 40, 50]\n",
        "]\n",
        "\n",
        "result = []\n",
        "for i in range(len(arr1)):\n",
        "    new_row = []\n",
        "    for j in range(len(arr2[0])):\n",
        "        new_row.append(arr1[i][0] + arr2[0][j])\n",
        "    result.append(new_row)\n",
        "\n",
        "print(result)\n"
      ],
      "metadata": {
        "colab": {
          "base_uri": "https://localhost:8080/"
        },
        "id": "gcg96MoPtRj2",
        "outputId": "839c5dc0-b9ec-4108-b78c-c5c6aa97c849"
      },
      "execution_count": 10,
      "outputs": [
        {
          "output_type": "stream",
          "name": "stdout",
          "text": [
            "[[11, 21, 31, 41, 51], [12, 22, 32, 42, 52], [13, 23, 33, 43, 53], [14, 24, 34, 44, 54]]\n"
          ]
        }
      ]
    },
    {
      "cell_type": "markdown",
      "source": [
        "# Vectorized Operations"
      ],
      "metadata": {
        "id": "m2oMaatdtmfO"
      }
    },
    {
      "cell_type": "markdown",
      "source": [
        "**Question 21**"
      ],
      "metadata": {
        "id": "7xvYO1W7tpjF"
      }
    },
    {
      "cell_type": "code",
      "source": [
        "array_2d = [\n",
        "    [1, 4, 9],\n",
        "    [16, 25, 36],\n",
        "    [49, 64, 81]\n",
        "]\n",
        "\n",
        "sqrt_array = []\n",
        "for row in array_2d:\n",
        "    new_row = []\n",
        "    for element in row:\n",
        "        new_row.append(element ** 0.5)\n",
        "    sqrt_array.append(new_row)\n",
        "\n",
        "print(sqrt_array)\n"
      ],
      "metadata": {
        "colab": {
          "base_uri": "https://localhost:8080/"
        },
        "id": "QH54dhvYtojQ",
        "outputId": "3f3e5d2c-d954-4d1f-9fa7-dbdc259fb5ae"
      },
      "execution_count": 11,
      "outputs": [
        {
          "output_type": "stream",
          "name": "stdout",
          "text": [
            "[[1.0, 2.0, 3.0], [4.0, 5.0, 6.0], [7.0, 8.0, 9.0]]\n"
          ]
        }
      ]
    },
    {
      "cell_type": "markdown",
      "source": [
        "**Question 22**"
      ],
      "metadata": {
        "id": "CKwEKpv0uGQu"
      }
    },
    {
      "cell_type": "code",
      "source": [
        "arr1 = [1, 2, 3, 4, 5]\n",
        "arr2 = [5, 4, 3, 2, 1]\n",
        "\n",
        "dot_product = 0\n",
        "for i in range(len(arr1)):\n",
        "    dot_product += arr1[i] * arr2[i]\n",
        "\n",
        "print(dot_product)\n"
      ],
      "metadata": {
        "colab": {
          "base_uri": "https://localhost:8080/"
        },
        "id": "b1IkRaT-uH1G",
        "outputId": "0a68915f-adfa-4f01-f2d2-eb5119071f43"
      },
      "execution_count": 12,
      "outputs": [
        {
          "output_type": "stream",
          "name": "stdout",
          "text": [
            "35\n"
          ]
        }
      ]
    },
    {
      "cell_type": "markdown",
      "source": [
        "**Question 23**"
      ],
      "metadata": {
        "id": "xS1NRlJ8uPCW"
      }
    },
    {
      "cell_type": "code",
      "source": [
        "arr1 = [5, 2, 8, 4, 9]\n",
        "arr2 = [3, 6, 7, 4, 10]\n",
        "\n",
        "comparison = []\n",
        "for i in range(len(arr1)):\n",
        "    comparison.append(arr1[i] > arr2[i])\n",
        "\n",
        "print(comparison)\n"
      ],
      "metadata": {
        "colab": {
          "base_uri": "https://localhost:8080/"
        },
        "id": "O0TlqtMpvEn2",
        "outputId": "2ac8809b-3233-4714-c392-d39645aceef9"
      },
      "execution_count": 13,
      "outputs": [
        {
          "output_type": "stream",
          "name": "stdout",
          "text": [
            "[True, False, True, False, False]\n"
          ]
        }
      ]
    },
    {
      "cell_type": "markdown",
      "source": [
        "Question 24"
      ],
      "metadata": {
        "id": "e8lt62nMvOuh"
      }
    },
    {
      "cell_type": "code",
      "source": [
        "array_2d = [\n",
        "    [1, 2, 3],\n",
        "    [4, 5, 6],\n",
        "    [7, 8, 9]\n",
        "]\n",
        "\n",
        "doubled_array = []\n",
        "for row in array_2d:\n",
        "    new_row = []\n",
        "    for element in row:\n",
        "        new_row.append(element * 2)\n",
        "    doubled_array.append(new_row)\n",
        "\n",
        "print(doubled_array)\n"
      ],
      "metadata": {
        "colab": {
          "base_uri": "https://localhost:8080/"
        },
        "id": "aUhrpOIevQMx",
        "outputId": "b90bfca7-9c36-41ea-95cd-9da880f58dae"
      },
      "execution_count": 14,
      "outputs": [
        {
          "output_type": "stream",
          "name": "stdout",
          "text": [
            "[[2, 4, 6], [8, 10, 12], [14, 16, 18]]\n"
          ]
        }
      ]
    },
    {
      "cell_type": "markdown",
      "source": [
        "**Question 25**"
      ],
      "metadata": {
        "id": "VowHQO6qvPwz"
      }
    },
    {
      "cell_type": "code",
      "source": [
        "import random\n",
        "\n",
        "arr = [random.randint(1, 100) for _ in range(100)]\n",
        "\n",
        "even_sum = 0\n",
        "for num in arr:\n",
        "    if num % 2 == 0:\n",
        "        even_sum += num\n",
        "\n",
        "print(\"Array:\", arr)\n",
        "print(\"Sum of even numbers:\", even_sum)\n"
      ],
      "metadata": {
        "colab": {
          "base_uri": "https://localhost:8080/"
        },
        "id": "HGag8603vYfQ",
        "outputId": "4ff9e150-dbb5-46f4-9cb2-cdfaecd1d733"
      },
      "execution_count": 15,
      "outputs": [
        {
          "output_type": "stream",
          "name": "stdout",
          "text": [
            "Array: [18, 49, 38, 81, 53, 11, 36, 59, 38, 12, 48, 16, 57, 26, 59, 8, 55, 83, 18, 39, 2, 23, 57, 3, 92, 9, 89, 43, 99, 83, 89, 95, 73, 32, 46, 58, 97, 52, 96, 60, 33, 85, 89, 49, 82, 87, 12, 9, 29, 87, 67, 64, 50, 70, 13, 65, 38, 10, 60, 18, 77, 61, 2, 93, 35, 72, 86, 71, 86, 26, 44, 25, 59, 74, 64, 21, 39, 35, 42, 78, 58, 86, 15, 47, 31, 14, 36, 24, 2, 29, 23, 25, 79, 40, 82, 46, 99, 84, 44, 4]\n",
            "Sum of even numbers: 2194\n"
          ]
        }
      ]
    },
    {
      "cell_type": "markdown",
      "source": [
        "# Linear Algebra"
      ],
      "metadata": {
        "id": "h2YmYx7IveRa"
      }
    },
    {
      "cell_type": "markdown",
      "source": [
        "**Question 26**"
      ],
      "metadata": {
        "id": "PilMDh-bvgWe"
      }
    },
    {
      "cell_type": "code",
      "source": [
        "matrix = [\n",
        "    [1, 2, 3],\n",
        "    [4, 5, 6],\n",
        "    [7, 8, 9]\n",
        "]\n",
        "\n",
        "a, b, c = matrix[0]\n",
        "d, e, f = matrix[1]\n",
        "g, h, i = matrix[2]\n",
        "\n",
        "determinant = a*(e*i - f*h) - b*(d*i - f*g) + c*(d*h - e*g)\n",
        "\n",
        "print(\"Determinant:\", determinant)\n"
      ],
      "metadata": {
        "colab": {
          "base_uri": "https://localhost:8080/"
        },
        "id": "auGwg-KSvh_k",
        "outputId": "cd0604df-3dbe-4911-f206-5754c49bb5b4"
      },
      "execution_count": 19,
      "outputs": [
        {
          "output_type": "stream",
          "name": "stdout",
          "text": [
            "Determinant: 0\n"
          ]
        }
      ]
    },
    {
      "cell_type": "markdown",
      "source": [
        "**Question 27**"
      ],
      "metadata": {
        "id": "1GbRqsL0CdP3"
      }
    },
    {
      "cell_type": "code",
      "source": [
        "matrix = [\n",
        "    [4, 7],\n",
        "    [2, 6]\n",
        "]\n",
        "\n",
        "a, b = matrix[0]\n",
        "c, d = matrix[1]\n",
        "\n",
        "det = a*d - b*c\n",
        "\n",
        "if det == 0:\n",
        "    print(\"Matrix is singular, no inverse exists.\")\n",
        "else:\n",
        "    inverse = [\n",
        "        [ d/det, -b/det],\n",
        "        [-c/det,  a/det]\n",
        "    ]\n",
        "\n",
        "    identity = [[0, 0], [0, 0]]\n",
        "    for i in range(2):\n",
        "        for j in range(2):\n",
        "            for k in range(2):\n",
        "                identity[i][j] += matrix[i][k] * inverse[k][j]\n",
        "\n",
        "    print(\"Inverse Matrix:\", inverse)\n",
        "    print(\"Verification (Identity):\", identity)\n"
      ],
      "metadata": {
        "colab": {
          "base_uri": "https://localhost:8080/"
        },
        "id": "TAm1TQncCfV4",
        "outputId": "4e15c555-36f7-4925-f87a-03309795e84f"
      },
      "execution_count": 20,
      "outputs": [
        {
          "output_type": "stream",
          "name": "stdout",
          "text": [
            "Inverse Matrix: [[0.6, -0.7], [-0.2, 0.4]]\n",
            "Verification (Identity): [[0.9999999999999998, 4.440892098500626e-16], [-2.220446049250313e-16, 1.0000000000000004]]\n"
          ]
        }
      ]
    },
    {
      "cell_type": "markdown",
      "source": [
        "**Question 28**"
      ],
      "metadata": {
        "id": "0Jbjj2mfCzlH"
      }
    },
    {
      "cell_type": "code",
      "source": [
        "import math\n",
        "\n",
        "matrix = [\n",
        "    [4, 2],\n",
        "    [1, 3]\n",
        "]\n",
        "\n",
        "a, b = matrix[0]\n",
        "c, d = matrix[1]\n",
        "\n",
        "trace = a + d\n",
        "det = a*d - b*c\n",
        "\n",
        "discriminant = trace**2 - 4*det\n",
        "\n",
        "lambda1 = (trace + math.sqrt(discriminant)) / 2\n",
        "lambda2 = (trace - math.sqrt(discriminant)) / 2\n",
        "\n",
        "print(\"Eigenvalues:\", lambda1, lambda2)\n",
        "\n",
        "def eigenvector(lmbda):\n",
        "    m = [[a - lmbda, b],\n",
        "         [c, d - lmbda]]\n",
        "\n",
        "    if m[0][0] != 0 or m[0][1] != 0:\n",
        "        v = [ -m[0][1], m[0][0] ]\n",
        "    else:\n",
        "        v = [ -m[1][1], m[1][0] ]\n",
        "    return v\n",
        "\n",
        "v1 = eigenvector(lambda1)\n",
        "v2 = eigenvector(lambda2)\n",
        "\n",
        "print(\"Eigenvector for λ1:\", v1)\n",
        "print(\"Eigenvector for λ2:\", v2)\n"
      ],
      "metadata": {
        "colab": {
          "base_uri": "https://localhost:8080/"
        },
        "id": "r6LjLGq1C1Tn",
        "outputId": "8a29e2bc-517f-4803-ac02-b2debdf1d772"
      },
      "execution_count": 21,
      "outputs": [
        {
          "output_type": "stream",
          "name": "stdout",
          "text": [
            "Eigenvalues: 5.0 2.0\n",
            "Eigenvector for λ1: [-2, -1.0]\n",
            "Eigenvector for λ2: [-2, 2.0]\n"
          ]
        }
      ]
    },
    {
      "cell_type": "markdown",
      "source": [
        "**Question 29**"
      ],
      "metadata": {
        "id": "SAvE5Gv-DmUz"
      }
    },
    {
      "cell_type": "code",
      "source": [
        "import numpy as np\n",
        "\n",
        "A = np.array([[2, 3],\n",
        "              [4, 6]])\n",
        "\n",
        "B = np.array([5, 10])\n",
        "\n",
        "try:\n",
        "    X = np.linalg.solve(A, B)\n",
        "    print(\"Solution:\", X)\n",
        "except np.linalg.LinAlgError:\n",
        "    print(\"The system has no unique solution (matrix is singular).\")\n"
      ],
      "metadata": {
        "colab": {
          "base_uri": "https://localhost:8080/"
        },
        "id": "c6wpbDizDPbH",
        "outputId": "bdc54edb-9a0d-4e1b-bd3b-6a1011f54acb"
      },
      "execution_count": 22,
      "outputs": [
        {
          "output_type": "stream",
          "name": "stdout",
          "text": [
            "The system has no unique solution (matrix is singular).\n"
          ]
        }
      ]
    },
    {
      "cell_type": "markdown",
      "source": [
        "**Question 30**"
      ],
      "metadata": {
        "id": "Yp291CXUDotB"
      }
    },
    {
      "cell_type": "code",
      "source": [
        "import numpy as np\n",
        "\n",
        "A = np.array([\n",
        "    [1, 2, 3],\n",
        "    [4, 5, 6],\n",
        "    [7, 8, 9]\n",
        "])\n",
        "\n",
        "U, S, Vt = np.linalg.svd(A)\n",
        "\n",
        "print(\"U:\\n\", U)\n",
        "print(\"Singular values:\", S)\n",
        "print(\"V^T:\\n\", Vt)\n",
        "\n",
        "Sigma = np.zeros((A.shape[0], A.shape[1]))\n",
        "np.fill_diagonal(Sigma, S)\n",
        "\n",
        "A_reconstructed = U @ Sigma @ Vt\n",
        "print(\"Reconstructed A:\\n\", A_reconstructed)\n"
      ],
      "metadata": {
        "colab": {
          "base_uri": "https://localhost:8080/"
        },
        "id": "nuGzwrr0DqU_",
        "outputId": "b99d4e24-0380-4d9e-fbd5-0338ac4cd008"
      },
      "execution_count": 23,
      "outputs": [
        {
          "output_type": "stream",
          "name": "stdout",
          "text": [
            "U:\n",
            " [[-0.21483724  0.88723069  0.40824829]\n",
            " [-0.52058739  0.24964395 -0.81649658]\n",
            " [-0.82633754 -0.38794278  0.40824829]]\n",
            "Singular values: [1.68481034e+01 1.06836951e+00 4.41842475e-16]\n",
            "V^T:\n",
            " [[-0.47967118 -0.57236779 -0.66506441]\n",
            " [-0.77669099 -0.07568647  0.62531805]\n",
            " [-0.40824829  0.81649658 -0.40824829]]\n",
            "Reconstructed A:\n",
            " [[1. 2. 3.]\n",
            " [4. 5. 6.]\n",
            " [7. 8. 9.]]\n"
          ]
        }
      ]
    }
  ]
}